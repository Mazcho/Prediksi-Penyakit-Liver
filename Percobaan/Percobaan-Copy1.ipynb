{
 "cells": [
  {
   "cell_type": "markdown",
   "id": "3e1e8f3e",
   "metadata": {},
   "source": [
    "# Load DataSet"
   ]
  },
  {
   "cell_type": "code",
   "execution_count": 1,
   "id": "3af8f8a6",
   "metadata": {},
   "outputs": [
    {
     "name": "stderr",
     "output_type": "stream",
     "text": [
      "C:\\Users\\ASUS\\anaconda3\\lib\\site-packages\\numpy\\_distributor_init.py:30: UserWarning: loaded more than 1 DLL from .libs:\n",
      "C:\\Users\\ASUS\\anaconda3\\lib\\site-packages\\numpy\\.libs\\libopenblas.EL2C6PLE4ZYW3ECEVIV3OXXGRN2NRFM2.gfortran-win_amd64.dll\n",
      "C:\\Users\\ASUS\\anaconda3\\lib\\site-packages\\numpy\\.libs\\libopenblas.FB5AE2TYXYH2IJRDKGDGQ3XBKLKTF43H.gfortran-win_amd64.dll\n",
      "  warnings.warn(\"loaded more than 1 DLL from .libs:\"\n"
     ]
    }
   ],
   "source": [
    "import numpy as np\n",
    "import pandas as pd\n",
    "import seaborn as sns\n",
    "import matplotlib.pyplot as plt"
   ]
  },
  {
   "cell_type": "code",
   "execution_count": 2,
   "id": "c8049635",
   "metadata": {},
   "outputs": [
    {
     "data": {
      "text/html": [
       "<div>\n",
       "<style scoped>\n",
       "    .dataframe tbody tr th:only-of-type {\n",
       "        vertical-align: middle;\n",
       "    }\n",
       "\n",
       "    .dataframe tbody tr th {\n",
       "        vertical-align: top;\n",
       "    }\n",
       "\n",
       "    .dataframe thead th {\n",
       "        text-align: right;\n",
       "    }\n",
       "</style>\n",
       "<table border=\"1\" class=\"dataframe\">\n",
       "  <thead>\n",
       "    <tr style=\"text-align: right;\">\n",
       "      <th></th>\n",
       "      <th>Age</th>\n",
       "      <th>Gender</th>\n",
       "      <th>TB</th>\n",
       "      <th>DB</th>\n",
       "      <th>Alkphos</th>\n",
       "      <th>Sgpt</th>\n",
       "      <th>Sgot</th>\n",
       "      <th>TP</th>\n",
       "      <th>ALB</th>\n",
       "      <th>A/G Ratio</th>\n",
       "      <th>Selector</th>\n",
       "      <th>Selector2</th>\n",
       "    </tr>\n",
       "  </thead>\n",
       "  <tbody>\n",
       "    <tr>\n",
       "      <th>0</th>\n",
       "      <td>65</td>\n",
       "      <td>Female</td>\n",
       "      <td>0.7</td>\n",
       "      <td>0.1</td>\n",
       "      <td>187</td>\n",
       "      <td>16</td>\n",
       "      <td>18</td>\n",
       "      <td>6.8</td>\n",
       "      <td>3.3</td>\n",
       "      <td>0.90</td>\n",
       "      <td>1</td>\n",
       "      <td>0</td>\n",
       "    </tr>\n",
       "    <tr>\n",
       "      <th>1</th>\n",
       "      <td>62</td>\n",
       "      <td>Male</td>\n",
       "      <td>10.9</td>\n",
       "      <td>5.5</td>\n",
       "      <td>699</td>\n",
       "      <td>64</td>\n",
       "      <td>100</td>\n",
       "      <td>7.5</td>\n",
       "      <td>3.2</td>\n",
       "      <td>0.74</td>\n",
       "      <td>1</td>\n",
       "      <td>0</td>\n",
       "    </tr>\n",
       "    <tr>\n",
       "      <th>2</th>\n",
       "      <td>62</td>\n",
       "      <td>Male</td>\n",
       "      <td>7.3</td>\n",
       "      <td>4.1</td>\n",
       "      <td>490</td>\n",
       "      <td>60</td>\n",
       "      <td>68</td>\n",
       "      <td>7.0</td>\n",
       "      <td>3.3</td>\n",
       "      <td>0.89</td>\n",
       "      <td>1</td>\n",
       "      <td>0</td>\n",
       "    </tr>\n",
       "    <tr>\n",
       "      <th>3</th>\n",
       "      <td>58</td>\n",
       "      <td>Male</td>\n",
       "      <td>1.0</td>\n",
       "      <td>0.4</td>\n",
       "      <td>182</td>\n",
       "      <td>14</td>\n",
       "      <td>20</td>\n",
       "      <td>6.8</td>\n",
       "      <td>3.4</td>\n",
       "      <td>1.00</td>\n",
       "      <td>1</td>\n",
       "      <td>0</td>\n",
       "    </tr>\n",
       "    <tr>\n",
       "      <th>4</th>\n",
       "      <td>72</td>\n",
       "      <td>Male</td>\n",
       "      <td>3.9</td>\n",
       "      <td>2.0</td>\n",
       "      <td>195</td>\n",
       "      <td>27</td>\n",
       "      <td>59</td>\n",
       "      <td>7.3</td>\n",
       "      <td>2.4</td>\n",
       "      <td>0.40</td>\n",
       "      <td>1</td>\n",
       "      <td>0</td>\n",
       "    </tr>\n",
       "    <tr>\n",
       "      <th>...</th>\n",
       "      <td>...</td>\n",
       "      <td>...</td>\n",
       "      <td>...</td>\n",
       "      <td>...</td>\n",
       "      <td>...</td>\n",
       "      <td>...</td>\n",
       "      <td>...</td>\n",
       "      <td>...</td>\n",
       "      <td>...</td>\n",
       "      <td>...</td>\n",
       "      <td>...</td>\n",
       "      <td>...</td>\n",
       "    </tr>\n",
       "    <tr>\n",
       "      <th>578</th>\n",
       "      <td>60</td>\n",
       "      <td>Male</td>\n",
       "      <td>0.5</td>\n",
       "      <td>0.1</td>\n",
       "      <td>500</td>\n",
       "      <td>20</td>\n",
       "      <td>34</td>\n",
       "      <td>5.9</td>\n",
       "      <td>1.6</td>\n",
       "      <td>0.37</td>\n",
       "      <td>2</td>\n",
       "      <td>1</td>\n",
       "    </tr>\n",
       "    <tr>\n",
       "      <th>579</th>\n",
       "      <td>40</td>\n",
       "      <td>Male</td>\n",
       "      <td>0.6</td>\n",
       "      <td>0.1</td>\n",
       "      <td>98</td>\n",
       "      <td>35</td>\n",
       "      <td>31</td>\n",
       "      <td>6.0</td>\n",
       "      <td>3.2</td>\n",
       "      <td>1.10</td>\n",
       "      <td>1</td>\n",
       "      <td>0</td>\n",
       "    </tr>\n",
       "    <tr>\n",
       "      <th>580</th>\n",
       "      <td>52</td>\n",
       "      <td>Male</td>\n",
       "      <td>0.8</td>\n",
       "      <td>0.2</td>\n",
       "      <td>245</td>\n",
       "      <td>48</td>\n",
       "      <td>49</td>\n",
       "      <td>6.4</td>\n",
       "      <td>3.2</td>\n",
       "      <td>1.00</td>\n",
       "      <td>1</td>\n",
       "      <td>0</td>\n",
       "    </tr>\n",
       "    <tr>\n",
       "      <th>581</th>\n",
       "      <td>31</td>\n",
       "      <td>Male</td>\n",
       "      <td>1.3</td>\n",
       "      <td>0.5</td>\n",
       "      <td>184</td>\n",
       "      <td>29</td>\n",
       "      <td>32</td>\n",
       "      <td>6.8</td>\n",
       "      <td>3.4</td>\n",
       "      <td>1.00</td>\n",
       "      <td>1</td>\n",
       "      <td>0</td>\n",
       "    </tr>\n",
       "    <tr>\n",
       "      <th>582</th>\n",
       "      <td>38</td>\n",
       "      <td>Male</td>\n",
       "      <td>1.0</td>\n",
       "      <td>0.3</td>\n",
       "      <td>216</td>\n",
       "      <td>21</td>\n",
       "      <td>24</td>\n",
       "      <td>7.3</td>\n",
       "      <td>4.4</td>\n",
       "      <td>1.50</td>\n",
       "      <td>2</td>\n",
       "      <td>1</td>\n",
       "    </tr>\n",
       "  </tbody>\n",
       "</table>\n",
       "<p>583 rows × 12 columns</p>\n",
       "</div>"
      ],
      "text/plain": [
       "     Age  Gender    TB   DB  Alkphos  Sgpt  Sgot   TP  ALB  A/G Ratio  \\\n",
       "0     65  Female   0.7  0.1      187    16    18  6.8  3.3       0.90   \n",
       "1     62    Male  10.9  5.5      699    64   100  7.5  3.2       0.74   \n",
       "2     62    Male   7.3  4.1      490    60    68  7.0  3.3       0.89   \n",
       "3     58    Male   1.0  0.4      182    14    20  6.8  3.4       1.00   \n",
       "4     72    Male   3.9  2.0      195    27    59  7.3  2.4       0.40   \n",
       "..   ...     ...   ...  ...      ...   ...   ...  ...  ...        ...   \n",
       "578   60    Male   0.5  0.1      500    20    34  5.9  1.6       0.37   \n",
       "579   40    Male   0.6  0.1       98    35    31  6.0  3.2       1.10   \n",
       "580   52    Male   0.8  0.2      245    48    49  6.4  3.2       1.00   \n",
       "581   31    Male   1.3  0.5      184    29    32  6.8  3.4       1.00   \n",
       "582   38    Male   1.0  0.3      216    21    24  7.3  4.4       1.50   \n",
       "\n",
       "     Selector  Selector2  \n",
       "0           1          0  \n",
       "1           1          0  \n",
       "2           1          0  \n",
       "3           1          0  \n",
       "4           1          0  \n",
       "..        ...        ...  \n",
       "578         2          1  \n",
       "579         1          0  \n",
       "580         1          0  \n",
       "581         1          0  \n",
       "582         2          1  \n",
       "\n",
       "[583 rows x 12 columns]"
      ]
     },
     "execution_count": 2,
     "metadata": {},
     "output_type": "execute_result"
    }
   ],
   "source": [
    "df = pd.read_csv(\"Indian Liver Patient Dataset (ILPD).csv\")\n",
    "df"
   ]
  },
  {
   "cell_type": "code",
   "execution_count": 3,
   "id": "90d14aff",
   "metadata": {},
   "outputs": [],
   "source": [
    "df.drop(\"Selector\",axis=1,inplace=True)"
   ]
  },
  {
   "cell_type": "markdown",
   "id": "ea56e79e",
   "metadata": {},
   "source": [
    "# Eksplorasi Data"
   ]
  },
  {
   "cell_type": "code",
   "execution_count": 4,
   "id": "b62c68b3",
   "metadata": {},
   "outputs": [
    {
     "data": {
      "text/plain": [
       "(583, 11)"
      ]
     },
     "execution_count": 4,
     "metadata": {},
     "output_type": "execute_result"
    }
   ],
   "source": [
    "df.shape"
   ]
  },
  {
   "cell_type": "code",
   "execution_count": 5,
   "id": "86036721",
   "metadata": {},
   "outputs": [
    {
     "name": "stdout",
     "output_type": "stream",
     "text": [
      "<class 'pandas.core.frame.DataFrame'>\n",
      "RangeIndex: 583 entries, 0 to 582\n",
      "Data columns (total 11 columns):\n",
      " #   Column     Non-Null Count  Dtype  \n",
      "---  ------     --------------  -----  \n",
      " 0   Age        583 non-null    int64  \n",
      " 1   Gender     583 non-null    object \n",
      " 2   TB         583 non-null    float64\n",
      " 3   DB         583 non-null    float64\n",
      " 4   Alkphos    583 non-null    int64  \n",
      " 5   Sgpt       583 non-null    int64  \n",
      " 6   Sgot       583 non-null    int64  \n",
      " 7   TP         583 non-null    float64\n",
      " 8   ALB        583 non-null    float64\n",
      " 9   A/G Ratio  579 non-null    float64\n",
      " 10  Selector2  583 non-null    int64  \n",
      "dtypes: float64(5), int64(5), object(1)\n",
      "memory usage: 50.2+ KB\n"
     ]
    }
   ],
   "source": [
    "df.info()"
   ]
  },
  {
   "cell_type": "code",
   "execution_count": 6,
   "id": "a3ddead8",
   "metadata": {},
   "outputs": [
    {
     "data": {
      "text/plain": [
       "Age          0\n",
       "Gender       0\n",
       "TB           0\n",
       "DB           0\n",
       "Alkphos      0\n",
       "Sgpt         0\n",
       "Sgot         0\n",
       "TP           0\n",
       "ALB          0\n",
       "A/G Ratio    4\n",
       "Selector2    0\n",
       "dtype: int64"
      ]
     },
     "execution_count": 6,
     "metadata": {},
     "output_type": "execute_result"
    }
   ],
   "source": [
    "df.isna().sum()"
   ]
  },
  {
   "cell_type": "code",
   "execution_count": 7,
   "id": "080a913e",
   "metadata": {},
   "outputs": [
    {
     "data": {
      "text/html": [
       "<div>\n",
       "<style scoped>\n",
       "    .dataframe tbody tr th:only-of-type {\n",
       "        vertical-align: middle;\n",
       "    }\n",
       "\n",
       "    .dataframe tbody tr th {\n",
       "        vertical-align: top;\n",
       "    }\n",
       "\n",
       "    .dataframe thead th {\n",
       "        text-align: right;\n",
       "    }\n",
       "</style>\n",
       "<table border=\"1\" class=\"dataframe\">\n",
       "  <thead>\n",
       "    <tr style=\"text-align: right;\">\n",
       "      <th></th>\n",
       "      <th>Age</th>\n",
       "      <th>TB</th>\n",
       "      <th>DB</th>\n",
       "      <th>Alkphos</th>\n",
       "      <th>Sgpt</th>\n",
       "      <th>Sgot</th>\n",
       "      <th>TP</th>\n",
       "      <th>ALB</th>\n",
       "      <th>A/G Ratio</th>\n",
       "      <th>Selector2</th>\n",
       "    </tr>\n",
       "  </thead>\n",
       "  <tbody>\n",
       "    <tr>\n",
       "      <th>count</th>\n",
       "      <td>583.000000</td>\n",
       "      <td>583.000000</td>\n",
       "      <td>583.000000</td>\n",
       "      <td>583.000000</td>\n",
       "      <td>583.000000</td>\n",
       "      <td>583.000000</td>\n",
       "      <td>583.000000</td>\n",
       "      <td>583.000000</td>\n",
       "      <td>579.000000</td>\n",
       "      <td>583.000000</td>\n",
       "    </tr>\n",
       "    <tr>\n",
       "      <th>mean</th>\n",
       "      <td>44.746141</td>\n",
       "      <td>3.298799</td>\n",
       "      <td>1.486106</td>\n",
       "      <td>290.576329</td>\n",
       "      <td>80.713551</td>\n",
       "      <td>109.910806</td>\n",
       "      <td>6.483190</td>\n",
       "      <td>3.141852</td>\n",
       "      <td>0.947064</td>\n",
       "      <td>0.286449</td>\n",
       "    </tr>\n",
       "    <tr>\n",
       "      <th>std</th>\n",
       "      <td>16.189833</td>\n",
       "      <td>6.209522</td>\n",
       "      <td>2.808498</td>\n",
       "      <td>242.937989</td>\n",
       "      <td>182.620356</td>\n",
       "      <td>288.918529</td>\n",
       "      <td>1.085451</td>\n",
       "      <td>0.795519</td>\n",
       "      <td>0.319592</td>\n",
       "      <td>0.452490</td>\n",
       "    </tr>\n",
       "    <tr>\n",
       "      <th>min</th>\n",
       "      <td>4.000000</td>\n",
       "      <td>0.400000</td>\n",
       "      <td>0.100000</td>\n",
       "      <td>63.000000</td>\n",
       "      <td>10.000000</td>\n",
       "      <td>10.000000</td>\n",
       "      <td>2.700000</td>\n",
       "      <td>0.900000</td>\n",
       "      <td>0.300000</td>\n",
       "      <td>0.000000</td>\n",
       "    </tr>\n",
       "    <tr>\n",
       "      <th>25%</th>\n",
       "      <td>33.000000</td>\n",
       "      <td>0.800000</td>\n",
       "      <td>0.200000</td>\n",
       "      <td>175.500000</td>\n",
       "      <td>23.000000</td>\n",
       "      <td>25.000000</td>\n",
       "      <td>5.800000</td>\n",
       "      <td>2.600000</td>\n",
       "      <td>0.700000</td>\n",
       "      <td>0.000000</td>\n",
       "    </tr>\n",
       "    <tr>\n",
       "      <th>50%</th>\n",
       "      <td>45.000000</td>\n",
       "      <td>1.000000</td>\n",
       "      <td>0.300000</td>\n",
       "      <td>208.000000</td>\n",
       "      <td>35.000000</td>\n",
       "      <td>42.000000</td>\n",
       "      <td>6.600000</td>\n",
       "      <td>3.100000</td>\n",
       "      <td>0.930000</td>\n",
       "      <td>0.000000</td>\n",
       "    </tr>\n",
       "    <tr>\n",
       "      <th>75%</th>\n",
       "      <td>58.000000</td>\n",
       "      <td>2.600000</td>\n",
       "      <td>1.300000</td>\n",
       "      <td>298.000000</td>\n",
       "      <td>60.500000</td>\n",
       "      <td>87.000000</td>\n",
       "      <td>7.200000</td>\n",
       "      <td>3.800000</td>\n",
       "      <td>1.100000</td>\n",
       "      <td>1.000000</td>\n",
       "    </tr>\n",
       "    <tr>\n",
       "      <th>max</th>\n",
       "      <td>90.000000</td>\n",
       "      <td>75.000000</td>\n",
       "      <td>19.700000</td>\n",
       "      <td>2110.000000</td>\n",
       "      <td>2000.000000</td>\n",
       "      <td>4929.000000</td>\n",
       "      <td>9.600000</td>\n",
       "      <td>5.500000</td>\n",
       "      <td>2.800000</td>\n",
       "      <td>1.000000</td>\n",
       "    </tr>\n",
       "  </tbody>\n",
       "</table>\n",
       "</div>"
      ],
      "text/plain": [
       "              Age          TB          DB      Alkphos         Sgpt  \\\n",
       "count  583.000000  583.000000  583.000000   583.000000   583.000000   \n",
       "mean    44.746141    3.298799    1.486106   290.576329    80.713551   \n",
       "std     16.189833    6.209522    2.808498   242.937989   182.620356   \n",
       "min      4.000000    0.400000    0.100000    63.000000    10.000000   \n",
       "25%     33.000000    0.800000    0.200000   175.500000    23.000000   \n",
       "50%     45.000000    1.000000    0.300000   208.000000    35.000000   \n",
       "75%     58.000000    2.600000    1.300000   298.000000    60.500000   \n",
       "max     90.000000   75.000000   19.700000  2110.000000  2000.000000   \n",
       "\n",
       "              Sgot          TP         ALB   A/G Ratio   Selector2  \n",
       "count   583.000000  583.000000  583.000000  579.000000  583.000000  \n",
       "mean    109.910806    6.483190    3.141852    0.947064    0.286449  \n",
       "std     288.918529    1.085451    0.795519    0.319592    0.452490  \n",
       "min      10.000000    2.700000    0.900000    0.300000    0.000000  \n",
       "25%      25.000000    5.800000    2.600000    0.700000    0.000000  \n",
       "50%      42.000000    6.600000    3.100000    0.930000    0.000000  \n",
       "75%      87.000000    7.200000    3.800000    1.100000    1.000000  \n",
       "max    4929.000000    9.600000    5.500000    2.800000    1.000000  "
      ]
     },
     "execution_count": 7,
     "metadata": {},
     "output_type": "execute_result"
    }
   ],
   "source": [
    "df.describe()"
   ]
  },
  {
   "cell_type": "code",
   "execution_count": 8,
   "id": "f1b487e0",
   "metadata": {},
   "outputs": [
    {
     "data": {
      "text/plain": [
       "0    416\n",
       "1    167\n",
       "Name: Selector2, dtype: int64"
      ]
     },
     "execution_count": 8,
     "metadata": {},
     "output_type": "execute_result"
    }
   ],
   "source": [
    "#imbalance\n",
    "df[\"Selector2\"].value_counts()"
   ]
  },
  {
   "cell_type": "code",
   "execution_count": 9,
   "id": "e2cd1929",
   "metadata": {},
   "outputs": [],
   "source": [
    "from sklearn.preprocessing import LabelEncoder\n",
    "labelencoder = LabelEncoder()\n",
    "df[\"Gender\"] = labelencoder.fit_transform(df[\"Gender\"])"
   ]
  },
  {
   "cell_type": "code",
   "execution_count": 10,
   "id": "c528909d",
   "metadata": {},
   "outputs": [],
   "source": [
    "df[\"Gender\"] = df[\"Gender\"].astype(int)"
   ]
  },
  {
   "cell_type": "code",
   "execution_count": 11,
   "id": "43e9a5de",
   "metadata": {},
   "outputs": [
    {
     "data": {
      "text/plain": [
       "13"
      ]
     },
     "execution_count": 11,
     "metadata": {},
     "output_type": "execute_result"
    }
   ],
   "source": [
    "df.duplicated().sum()"
   ]
  },
  {
   "cell_type": "code",
   "execution_count": 12,
   "id": "216f0667",
   "metadata": {},
   "outputs": [],
   "source": [
    "df.drop_duplicates(inplace=True)"
   ]
  },
  {
   "cell_type": "markdown",
   "id": "5f633a85",
   "metadata": {},
   "source": [
    "# Pre Processing data"
   ]
  },
  {
   "cell_type": "code",
   "execution_count": 13,
   "id": "57ccf6c6",
   "metadata": {},
   "outputs": [],
   "source": [
    "#ngisi missing value\n",
    "df[\"A/G Ratio\"].fillna(df[\"A/G Ratio\"].mean(),axis=0,inplace=True)"
   ]
  },
  {
   "cell_type": "code",
   "execution_count": 14,
   "id": "1a6ed59d",
   "metadata": {},
   "outputs": [],
   "source": [
    "q1 = np.percentile(df,25)\n",
    "q3 = np.percentile(df,75)\n",
    "iqr = q3-q1\n",
    "\n",
    "lower_bound = q1- 1.5 * iqr\n",
    "upper_bound = q3 + 1.5 *iqr\n",
    "\n",
    "data_no_outliers = df[(df>= lower_bound) & (df<= upper_bound)]"
   ]
  },
  {
   "cell_type": "code",
   "execution_count": 15,
   "id": "07458007",
   "metadata": {},
   "outputs": [
    {
     "data": {
      "text/plain": [
       "<Axes: >"
      ]
     },
     "execution_count": 15,
     "metadata": {},
     "output_type": "execute_result"
    },
    {
     "data": {
      "image/png": "[encoded data removed]",
      "text/plain": [
       "<Figure size 640x480 with 1 Axes>"
      ]
     },
     "metadata": {},
     "output_type": "display_data"
    }
   ],
   "source": [
    "sns.boxplot(data_no_outliers)"
   ]
  },
  {
   "cell_type": "code",
   "execution_count": 16,
   "id": "1d93e4b6",
   "metadata": {},
   "outputs": [],
   "source": [
    "X = df.drop(\"Selector2\",axis=1)\n",
    "y = df[\"Selector2\"]"
   ]
  },
  {
   "cell_type": "code",
   "execution_count": 17,
   "id": "7a62d43b",
   "metadata": {},
   "outputs": [],
   "source": [
    "X.fillna(X.mean(),inplace=True)"
   ]
  },
  {
   "cell_type": "code",
   "execution_count": 18,
   "id": "4a77b9f3",
   "metadata": {},
   "outputs": [],
   "source": [
    "from imblearn.over_sampling import SMOTE\n",
    "scaler = SMOTE(k_neighbors=3, random_state=42)\n",
    "\n",
    "X_resampled,y_resampled = scaler.fit_resample(X,y)"
   ]
  },
  {
   "cell_type": "code",
   "execution_count": 19,
   "id": "48627cb1",
   "metadata": {},
   "outputs": [
    {
     "data": {
      "text/html": [
       "<div>\n",
       "<style scoped>\n",
       "    .dataframe tbody tr th:only-of-type {\n",
       "        vertical-align: middle;\n",
       "    }\n",
       "\n",
       "    .dataframe tbody tr th {\n",
       "        vertical-align: top;\n",
       "    }\n",
       "\n",
       "    .dataframe thead th {\n",
       "        text-align: right;\n",
       "    }\n",
       "</style>\n",
       "<table border=\"1\" class=\"dataframe\">\n",
       "  <thead>\n",
       "    <tr style=\"text-align: right;\">\n",
       "      <th></th>\n",
       "      <th>Age</th>\n",
       "      <th>Gender</th>\n",
       "      <th>TB</th>\n",
       "      <th>DB</th>\n",
       "      <th>Alkphos</th>\n",
       "      <th>Sgpt</th>\n",
       "      <th>Sgot</th>\n",
       "      <th>TP</th>\n",
       "      <th>ALB</th>\n",
       "      <th>A/G Ratio</th>\n",
       "    </tr>\n",
       "  </thead>\n",
       "  <tbody>\n",
       "    <tr>\n",
       "      <th>0</th>\n",
       "      <td>65</td>\n",
       "      <td>0</td>\n",
       "      <td>0.700000</td>\n",
       "      <td>0.100000</td>\n",
       "      <td>187</td>\n",
       "      <td>16</td>\n",
       "      <td>18</td>\n",
       "      <td>6.800000</td>\n",
       "      <td>3.300000</td>\n",
       "      <td>0.900000</td>\n",
       "    </tr>\n",
       "    <tr>\n",
       "      <th>1</th>\n",
       "      <td>62</td>\n",
       "      <td>1</td>\n",
       "      <td>10.900000</td>\n",
       "      <td>5.500000</td>\n",
       "      <td>699</td>\n",
       "      <td>64</td>\n",
       "      <td>100</td>\n",
       "      <td>7.500000</td>\n",
       "      <td>3.200000</td>\n",
       "      <td>0.740000</td>\n",
       "    </tr>\n",
       "    <tr>\n",
       "      <th>2</th>\n",
       "      <td>62</td>\n",
       "      <td>1</td>\n",
       "      <td>7.300000</td>\n",
       "      <td>4.100000</td>\n",
       "      <td>490</td>\n",
       "      <td>60</td>\n",
       "      <td>68</td>\n",
       "      <td>7.000000</td>\n",
       "      <td>3.300000</td>\n",
       "      <td>0.890000</td>\n",
       "    </tr>\n",
       "    <tr>\n",
       "      <th>3</th>\n",
       "      <td>58</td>\n",
       "      <td>1</td>\n",
       "      <td>1.000000</td>\n",
       "      <td>0.400000</td>\n",
       "      <td>182</td>\n",
       "      <td>14</td>\n",
       "      <td>20</td>\n",
       "      <td>6.800000</td>\n",
       "      <td>3.400000</td>\n",
       "      <td>1.000000</td>\n",
       "    </tr>\n",
       "    <tr>\n",
       "      <th>4</th>\n",
       "      <td>72</td>\n",
       "      <td>1</td>\n",
       "      <td>3.900000</td>\n",
       "      <td>2.000000</td>\n",
       "      <td>195</td>\n",
       "      <td>27</td>\n",
       "      <td>59</td>\n",
       "      <td>7.300000</td>\n",
       "      <td>2.400000</td>\n",
       "      <td>0.400000</td>\n",
       "    </tr>\n",
       "    <tr>\n",
       "      <th>...</th>\n",
       "      <td>...</td>\n",
       "      <td>...</td>\n",
       "      <td>...</td>\n",
       "      <td>...</td>\n",
       "      <td>...</td>\n",
       "      <td>...</td>\n",
       "      <td>...</td>\n",
       "      <td>...</td>\n",
       "      <td>...</td>\n",
       "      <td>...</td>\n",
       "    </tr>\n",
       "    <tr>\n",
       "      <th>807</th>\n",
       "      <td>60</td>\n",
       "      <td>1</td>\n",
       "      <td>1.503881</td>\n",
       "      <td>0.607762</td>\n",
       "      <td>197</td>\n",
       "      <td>62</td>\n",
       "      <td>84</td>\n",
       "      <td>6.750452</td>\n",
       "      <td>3.807762</td>\n",
       "      <td>1.288357</td>\n",
       "    </tr>\n",
       "    <tr>\n",
       "      <th>808</th>\n",
       "      <td>50</td>\n",
       "      <td>1</td>\n",
       "      <td>0.700000</td>\n",
       "      <td>0.200000</td>\n",
       "      <td>193</td>\n",
       "      <td>18</td>\n",
       "      <td>15</td>\n",
       "      <td>7.494649</td>\n",
       "      <td>4.200000</td>\n",
       "      <td>1.271605</td>\n",
       "    </tr>\n",
       "    <tr>\n",
       "      <th>809</th>\n",
       "      <td>36</td>\n",
       "      <td>0</td>\n",
       "      <td>1.395791</td>\n",
       "      <td>0.517475</td>\n",
       "      <td>348</td>\n",
       "      <td>151</td>\n",
       "      <td>80</td>\n",
       "      <td>8.221684</td>\n",
       "      <td>4.341263</td>\n",
       "      <td>1.080421</td>\n",
       "    </tr>\n",
       "    <tr>\n",
       "      <th>810</th>\n",
       "      <td>52</td>\n",
       "      <td>0</td>\n",
       "      <td>1.551447</td>\n",
       "      <td>0.851447</td>\n",
       "      <td>177</td>\n",
       "      <td>42</td>\n",
       "      <td>58</td>\n",
       "      <td>6.430639</td>\n",
       "      <td>3.816766</td>\n",
       "      <td>1.458383</td>\n",
       "    </tr>\n",
       "    <tr>\n",
       "      <th>811</th>\n",
       "      <td>5</td>\n",
       "      <td>1</td>\n",
       "      <td>0.940311</td>\n",
       "      <td>0.250389</td>\n",
       "      <td>344</td>\n",
       "      <td>27</td>\n",
       "      <td>32</td>\n",
       "      <td>7.798444</td>\n",
       "      <td>3.808522</td>\n",
       "      <td>0.949611</td>\n",
       "    </tr>\n",
       "  </tbody>\n",
       "</table>\n",
       "<p>812 rows × 10 columns</p>\n",
       "</div>"
      ],
      "text/plain": [
       "     Age  Gender         TB        DB  Alkphos  Sgpt  Sgot        TP  \\\n",
       "0     65       0   0.700000  0.100000      187    16    18  6.800000   \n",
       "1     62       1  10.900000  5.500000      699    64   100  7.500000   \n",
       "2     62       1   7.300000  4.100000      490    60    68  7.000000   \n",
       "3     58       1   1.000000  0.400000      182    14    20  6.800000   \n",
       "4     72       1   3.900000  2.000000      195    27    59  7.300000   \n",
       "..   ...     ...        ...       ...      ...   ...   ...       ...   \n",
       "807   60       1   1.503881  0.607762      197    62    84  6.750452   \n",
       "808   50       1   0.700000  0.200000      193    18    15  7.494649   \n",
       "809   36       0   1.395791  0.517475      348   151    80  8.221684   \n",
       "810   52       0   1.551447  0.851447      177    42    58  6.430639   \n",
       "811    5       1   0.940311  0.250389      344    27    32  7.798444   \n",
       "\n",
       "          ALB  A/G Ratio  \n",
       "0    3.300000   0.900000  \n",
       "1    3.200000   0.740000  \n",
       "2    3.300000   0.890000  \n",
       "3    3.400000   1.000000  \n",
       "4    2.400000   0.400000  \n",
       "..        ...        ...  \n",
       "807  3.807762   1.288357  \n",
       "808  4.200000   1.271605  \n",
       "809  4.341263   1.080421  \n",
       "810  3.816766   1.458383  \n",
       "811  3.808522   0.949611  \n",
       "\n",
       "[812 rows x 10 columns]"
      ]
     },
     "execution_count": 19,
     "metadata": {},
     "output_type": "execute_result"
    }
   ],
   "source": [
    "X_resampled"
   ]
  },
  {
   "cell_type": "code",
   "execution_count": 20,
   "id": "31ca2e03",
   "metadata": {},
   "outputs": [
    {
     "data": {
      "text/plain": [
       "0    406\n",
       "1    406\n",
       "Name: Selector2, dtype: int64"
      ]
     },
     "execution_count": 20,
     "metadata": {},
     "output_type": "execute_result"
    }
   ],
   "source": [
    "y_resampled.value_counts()"
   ]
  },
  {
   "cell_type": "code",
   "execution_count": 21,
   "id": "4181edf2",
   "metadata": {},
   "outputs": [
    {
     "data": {
      "text/html": [
       "<div>\n",
       "<style scoped>\n",
       "    .dataframe tbody tr th:only-of-type {\n",
       "        vertical-align: middle;\n",
       "    }\n",
       "\n",
       "    .dataframe tbody tr th {\n",
       "        vertical-align: top;\n",
       "    }\n",
       "\n",
       "    .dataframe thead th {\n",
       "        text-align: right;\n",
       "    }\n",
       "</style>\n",
       "<table border=\"1\" class=\"dataframe\">\n",
       "  <thead>\n",
       "    <tr style=\"text-align: right;\">\n",
       "      <th></th>\n",
       "      <th>Age</th>\n",
       "      <th>Gender</th>\n",
       "      <th>TB</th>\n",
       "      <th>DB</th>\n",
       "      <th>Alkphos</th>\n",
       "      <th>Sgpt</th>\n",
       "      <th>Sgot</th>\n",
       "      <th>TP</th>\n",
       "      <th>ALB</th>\n",
       "      <th>A/G Ratio</th>\n",
       "    </tr>\n",
       "  </thead>\n",
       "  <tbody>\n",
       "    <tr>\n",
       "      <th>count</th>\n",
       "      <td>812.000000</td>\n",
       "      <td>812.000000</td>\n",
       "      <td>812.000000</td>\n",
       "      <td>812.000000</td>\n",
       "      <td>812.000000</td>\n",
       "      <td>812.000000</td>\n",
       "      <td>812.000000</td>\n",
       "      <td>812.000000</td>\n",
       "      <td>812.000000</td>\n",
       "      <td>812.000000</td>\n",
       "    </tr>\n",
       "    <tr>\n",
       "      <th>mean</th>\n",
       "      <td>44.155172</td>\n",
       "      <td>0.681034</td>\n",
       "      <td>2.655975</td>\n",
       "      <td>1.160839</td>\n",
       "      <td>268.876847</td>\n",
       "      <td>65.873153</td>\n",
       "      <td>87.353448</td>\n",
       "      <td>6.519576</td>\n",
       "      <td>3.217344</td>\n",
       "      <td>0.977546</td>\n",
       "    </tr>\n",
       "    <tr>\n",
       "      <th>std</th>\n",
       "      <td>16.075901</td>\n",
       "      <td>0.466363</td>\n",
       "      <td>5.365527</td>\n",
       "      <td>2.438927</td>\n",
       "      <td>215.872975</td>\n",
       "      <td>154.029614</td>\n",
       "      <td>246.504534</td>\n",
       "      <td>1.031285</td>\n",
       "      <td>0.751599</td>\n",
       "      <td>0.297450</td>\n",
       "    </tr>\n",
       "    <tr>\n",
       "      <th>min</th>\n",
       "      <td>4.000000</td>\n",
       "      <td>0.000000</td>\n",
       "      <td>0.400000</td>\n",
       "      <td>0.100000</td>\n",
       "      <td>63.000000</td>\n",
       "      <td>10.000000</td>\n",
       "      <td>10.000000</td>\n",
       "      <td>2.700000</td>\n",
       "      <td>0.900000</td>\n",
       "      <td>0.300000</td>\n",
       "    </tr>\n",
       "    <tr>\n",
       "      <th>25%</th>\n",
       "      <td>32.000000</td>\n",
       "      <td>0.000000</td>\n",
       "      <td>0.767345</td>\n",
       "      <td>0.200000</td>\n",
       "      <td>172.000000</td>\n",
       "      <td>22.000000</td>\n",
       "      <td>23.000000</td>\n",
       "      <td>5.900000</td>\n",
       "      <td>2.700000</td>\n",
       "      <td>0.800000</td>\n",
       "    </tr>\n",
       "    <tr>\n",
       "      <th>50%</th>\n",
       "      <td>45.000000</td>\n",
       "      <td>1.000000</td>\n",
       "      <td>0.900000</td>\n",
       "      <td>0.295345</td>\n",
       "      <td>198.000000</td>\n",
       "      <td>31.000000</td>\n",
       "      <td>34.000000</td>\n",
       "      <td>6.600000</td>\n",
       "      <td>3.200000</td>\n",
       "      <td>1.000000</td>\n",
       "    </tr>\n",
       "    <tr>\n",
       "      <th>75%</th>\n",
       "      <td>57.000000</td>\n",
       "      <td>1.000000</td>\n",
       "      <td>1.800000</td>\n",
       "      <td>0.800000</td>\n",
       "      <td>282.000000</td>\n",
       "      <td>52.250000</td>\n",
       "      <td>66.250000</td>\n",
       "      <td>7.200000</td>\n",
       "      <td>3.801349</td>\n",
       "      <td>1.112343</td>\n",
       "    </tr>\n",
       "    <tr>\n",
       "      <th>max</th>\n",
       "      <td>90.000000</td>\n",
       "      <td>1.000000</td>\n",
       "      <td>75.000000</td>\n",
       "      <td>19.700000</td>\n",
       "      <td>2110.000000</td>\n",
       "      <td>2000.000000</td>\n",
       "      <td>4929.000000</td>\n",
       "      <td>9.600000</td>\n",
       "      <td>5.500000</td>\n",
       "      <td>2.800000</td>\n",
       "    </tr>\n",
       "  </tbody>\n",
       "</table>\n",
       "</div>"
      ],
      "text/plain": [
       "              Age      Gender          TB          DB      Alkphos  \\\n",
       "count  812.000000  812.000000  812.000000  812.000000   812.000000   \n",
       "mean    44.155172    0.681034    2.655975    1.160839   268.876847   \n",
       "std     16.075901    0.466363    5.365527    2.438927   215.872975   \n",
       "min      4.000000    0.000000    0.400000    0.100000    63.000000   \n",
       "25%     32.000000    0.000000    0.767345    0.200000   172.000000   \n",
       "50%     45.000000    1.000000    0.900000    0.295345   198.000000   \n",
       "75%     57.000000    1.000000    1.800000    0.800000   282.000000   \n",
       "max     90.000000    1.000000   75.000000   19.700000  2110.000000   \n",
       "\n",
       "              Sgpt         Sgot          TP         ALB   A/G Ratio  \n",
       "count   812.000000   812.000000  812.000000  812.000000  812.000000  \n",
       "mean     65.873153    87.353448    6.519576    3.217344    0.977546  \n",
       "std     154.029614   246.504534    1.031285    0.751599    0.297450  \n",
       "min      10.000000    10.000000    2.700000    0.900000    0.300000  \n",
       "25%      22.000000    23.000000    5.900000    2.700000    0.800000  \n",
       "50%      31.000000    34.000000    6.600000    3.200000    1.000000  \n",
       "75%      52.250000    66.250000    7.200000    3.801349    1.112343  \n",
       "max    2000.000000  4929.000000    9.600000    5.500000    2.800000  "
      ]
     },
     "execution_count": 21,
     "metadata": {},
     "output_type": "execute_result"
    }
   ],
   "source": [
    "X_resampled.describe()"
   ]
  },
  {
   "cell_type": "code",
   "execution_count": 22,
   "id": "4d331344",
   "metadata": {},
   "outputs": [
    {
     "data": {
      "text/plain": [
       "<Axes: >"
      ]
     },
     "execution_count": 22,
     "metadata": {},
     "output_type": "execute_result"
    },
    {
     "data": {
      "image/png": "[encoded data removed]",
      "text/plain": [
       "<Figure size 640x480 with 1 Axes>"
      ]
     },
     "metadata": {},
     "output_type": "display_data"
    }
   ],
   "source": [
    "sns.boxplot(data_no_outliers)"
   ]
  },
  {
   "cell_type": "code",
   "execution_count": 23,
   "id": "a72df3b7",
   "metadata": {},
   "outputs": [],
   "source": [
    "# from sklearn.preprocessing import MinMaxScaler\n",
    "# scaler = MinMaxScaler()\n",
    "\n",
    "# X_normalisasi = scaler.fit_transform(X_resampled)"
   ]
  },
  {
   "cell_type": "code",
   "execution_count": 24,
   "id": "f531d19f",
   "metadata": {},
   "outputs": [],
   "source": [
    "# X_normalisasi"
   ]
  },
  {
   "cell_type": "markdown",
   "id": "23b1ff35",
   "metadata": {},
   "source": [
    "# ML"
   ]
  },
  {
   "cell_type": "code",
   "execution_count": 25,
   "id": "7f6e265f",
   "metadata": {},
   "outputs": [],
   "source": [
    "from sklearn.model_selection import train_test_split\n",
    "from sklearn.metrics import classification_report, confusion_matrix, accuracy_score\n",
    "\n",
    "X_train,X_test,y_train,y_test = train_test_split(X_resampled,y_resampled,test_size=0.2,random_state=42)"
   ]
  },
  {
   "cell_type": "code",
   "execution_count": 26,
   "id": "b2d7349d",
   "metadata": {},
   "outputs": [
    {
     "name": "stdout",
     "output_type": "stream",
     "text": [
      "              precision    recall  f1-score   support\n",
      "\n",
      "           0       0.80      0.83      0.82        72\n",
      "           1       0.86      0.84      0.85        91\n",
      "\n",
      "    accuracy                           0.83       163\n",
      "   macro avg       0.83      0.83      0.83       163\n",
      "weighted avg       0.84      0.83      0.83       163\n",
      "\n",
      "0.8343558282208589\n"
     ]
    },
    {
     "data": {
      "text/plain": [
       "Text(50.722222222222214, 0.5, 'Prediction')"
      ]
     },
     "execution_count": 26,
     "metadata": {},
     "output_type": "execute_result"
    },
    {
     "data": {
      "image/png": "[encoded data removed]",
      "text/plain": [
       "<Figure size 640x480 with 2 Axes>"
      ]
     },
     "metadata": {},
     "output_type": "display_data"
    }
   ],
   "source": [
    "from sklearn.ensemble import GradientBoostingClassifier\n",
    "\n",
    "\n",
    "modelgbc = GradientBoostingClassifier(random_state=42)\n",
    "\n",
    "modelgbc.fit(X_train,y_train)\n",
    "y_predgbc = modelgbc.predict(X_test)\n",
    "\n",
    "reportgbc = classification_report(y_test,y_predgbc)\n",
    "accgbc = accuracy_score(y_test,y_predgbc)\n",
    "confgbc = confusion_matrix(y_test,y_predgbc)\n",
    "\n",
    "print(reportgbc)\n",
    "print(accgbc)\n",
    "\n",
    "sns.heatmap(confgbc,annot= True)\n",
    "plt.xlabel(\"Actual\")\n",
    "plt.ylabel(\"Prediction\")"
   ]
  },
  {
   "cell_type": "code",
   "execution_count": 27,
   "id": "ef111c4a",
   "metadata": {},
   "outputs": [],
   "source": [
    "import pickle\n",
    "with open(\"modelGBC.pkl\",\"wb\") as f:\n",
    "    pickle.dump(modelgbc, f)"
   ]
  },
  {
   "cell_type": "code",
   "execution_count": 28,
   "id": "91385d50",
   "metadata": {},
   "outputs": [
    {
     "data": {
      "text/plain": [
       "['modelGBC.joblib']"
      ]
     },
     "execution_count": 28,
     "metadata": {},
     "output_type": "execute_result"
    }
   ],
   "source": [
    "import joblib\n",
    "joblib.dump(modelgbc, \"modelGBC.joblib\")"
   ]
  },
  {
   "cell_type": "code",
   "execution_count": 29,
   "id": "bc6bb475",
   "metadata": {},
   "outputs": [
    {
     "name": "stdout",
     "output_type": "stream",
     "text": [
      "              precision    recall  f1-score   support\n",
      "\n",
      "           0       0.72      0.57      0.64        72\n",
      "           1       0.71      0.82      0.76        91\n",
      "\n",
      "    accuracy                           0.71       163\n",
      "   macro avg       0.71      0.70      0.70       163\n",
      "weighted avg       0.71      0.71      0.71       163\n",
      "\n",
      "0.7116564417177914\n"
     ]
    },
    {
     "name": "stderr",
     "output_type": "stream",
     "text": [
      "C:\\Users\\ASUS\\anaconda3\\lib\\site-packages\\sklearn\\linear_model\\_logistic.py:460: ConvergenceWarning: lbfgs failed to converge (status=1):\n",
      "STOP: TOTAL NO. of ITERATIONS REACHED LIMIT.\n",
      "\n",
      "Increase the number of iterations (max_iter) or scale the data as shown in:\n",
      "    https://scikit-learn.org/stable/modules/preprocessing.html\n",
      "Please also refer to the documentation for alternative solver options:\n",
      "    https://scikit-learn.org/stable/modules/linear_model.html#logistic-regression\n",
      "  n_iter_i = _check_optimize_result(\n"
     ]
    },
    {
     "data": {
      "text/plain": [
       "Text(50.722222222222214, 0.5, 'Prediction')"
      ]
     },
     "execution_count": 29,
     "metadata": {},
     "output_type": "execute_result"
    },
    {
     "data": {
      "image/png": "[encoded data removed]",
      "text/plain": [
       "<Figure size 640x480 with 2 Axes>"
      ]
     },
     "metadata": {},
     "output_type": "display_data"
    }
   ],
   "source": [
    "from sklearn.linear_model import LogisticRegression\n",
    "\n",
    "modelLr = LogisticRegression()\n",
    "modelLr.fit(X_train,y_train)\n",
    "y_pred_lr = modelLr.predict(X_test)\n",
    "\n",
    "reportLr = classification_report(y_test,y_pred_lr)\n",
    "accLr = accuracy_score(y_test,y_pred_lr)\n",
    "confLr = confusion_matrix(y_test,y_pred_lr)\n",
    "\n",
    "print(reportLr)\n",
    "print(accLr)\n",
    "\n",
    "sns.heatmap(confLr,annot=True)\n",
    "plt.xlabel(\"Actual\")\n",
    "plt.ylabel(\"Prediction\")"
   ]
  },
  {
   "cell_type": "code",
   "execution_count": 30,
   "id": "a479647e",
   "metadata": {},
   "outputs": [
    {
     "name": "stdout",
     "output_type": "stream",
     "text": [
      "              precision    recall  f1-score   support\n",
      "\n",
      "           0       0.82      0.64      0.72        72\n",
      "           1       0.76      0.89      0.82        91\n",
      "\n",
      "    accuracy                           0.78       163\n",
      "   macro avg       0.79      0.76      0.77       163\n",
      "weighted avg       0.79      0.78      0.77       163\n",
      "\n",
      "0.7791411042944786\n"
     ]
    },
    {
     "data": {
      "text/plain": [
       "Text(50.722222222222214, 0.5, 'Prediction')"
      ]
     },
     "execution_count": 30,
     "metadata": {},
     "output_type": "execute_result"
    },
    {
     "data": {
      "image/png": "[encoded data removed]",
      "text/plain": [
       "<Figure size 640x480 with 2 Axes>"
      ]
     },
     "metadata": {},
     "output_type": "display_data"
    }
   ],
   "source": [
    "from sklearn.neighbors import KNeighborsClassifier\n",
    "\n",
    "modelKnn = KNeighborsClassifier(n_neighbors=3)\n",
    "modelKnn.fit(X_train,y_train)\n",
    "y_pred_knn = modelKnn.predict(X_test)\n",
    "report_knn = classification_report(y_test,y_pred_knn)\n",
    "accknn = accuracy_score(y_test,y_pred_knn)\n",
    "confknn = confusion_matrix(y_test,y_pred_knn)\n",
    "\n",
    "print(report_knn)\n",
    "print(accknn)\n",
    "sns.heatmap(confknn,annot=True)\n",
    "plt.xlabel(\"Actual\")\n",
    "plt.ylabel(\"Prediction\")"
   ]
  },
  {
   "cell_type": "code",
   "execution_count": 31,
   "id": "b3693652",
   "metadata": {},
   "outputs": [
    {
     "name": "stdout",
     "output_type": "stream",
     "text": [
      "              precision    recall  f1-score   support\n",
      "\n",
      "           0       0.80      0.62      0.70        72\n",
      "           1       0.75      0.88      0.81        91\n",
      "\n",
      "    accuracy                           0.77       163\n",
      "   macro avg       0.78      0.75      0.76       163\n",
      "weighted avg       0.77      0.77      0.76       163\n",
      "\n",
      "0.7668711656441718\n"
     ]
    },
    {
     "data": {
      "text/plain": [
       "Text(50.722222222222214, 0.5, 'Prediction')"
      ]
     },
     "execution_count": 31,
     "metadata": {},
     "output_type": "execute_result"
    },
    {
     "data": {
      "image/png": "[encoded data removed]",
      "text/plain": [
       "<Figure size 640x480 with 2 Axes>"
      ]
     },
     "metadata": {},
     "output_type": "display_data"
    }
   ],
   "source": [
    "from xgboost import XGBRFClassifier\n",
    "modelXGBRF = XGBRFClassifier()\n",
    "\n",
    "modelXGBRF.fit(X_train,y_train)\n",
    "y_pred_xgbrf = modelXGBRF.predict(X_test)\n",
    "reportXGBRF = classification_report(y_test,y_pred_xgbrf)\n",
    "accXGBRF = accuracy_score(y_test,y_pred_xgbrf)\n",
    "confXGBRF = confusion_matrix(y_test,y_pred_xgbrf)\n",
    "\n",
    "print(reportXGBRF)\n",
    "print(accXGBRF)\n",
    "sns.heatmap(confXGBRF,annot=True)\n",
    "plt.xlabel(\"Actual\")\n",
    "plt.ylabel(\"Prediction\")"
   ]
  },
  {
   "cell_type": "code",
   "execution_count": null,
   "id": "0e8c9854",
   "metadata": {},
   "outputs": [],
   "source": []
  },
  {
   "cell_type": "code",
   "execution_count": 32,
   "id": "678f0c8d",
   "metadata": {},
   "outputs": [
    {
     "name": "stdout",
     "output_type": "stream",
     "text": [
      "Kombinasi hiperparameter terbaik: {'C': 10, 'penalty': 'l1', 'solver': 'liblinear'}\n",
      "              precision    recall  f1-score   support\n",
      "\n",
      "           0       0.74      0.58      0.65        72\n",
      "           1       0.72      0.84      0.77        91\n",
      "\n",
      "    accuracy                           0.72       163\n",
      "   macro avg       0.73      0.71      0.71       163\n",
      "weighted avg       0.73      0.72      0.72       163\n",
      "\n",
      "0.7239263803680982\n"
     ]
    },
    {
     "data": {
      "image/png": "[encoded data removed]",
      "text/plain": [
       "<Figure size 640x480 with 2 Axes>"
      ]
     },
     "metadata": {},
     "output_type": "display_data"
    }
   ],
   "source": [
    "from sklearn.linear_model import LogisticRegression\n",
    "from sklearn.model_selection import GridSearchCV\n",
    "from sklearn.metrics import classification_report, accuracy_score, confusion_matrix\n",
    "import seaborn as sns\n",
    "import matplotlib.pyplot as plt\n",
    "from sklearn.datasets import load_iris\n",
    "from sklearn.model_selection import train_test_split\n",
    "\n",
    "\n",
    "# Definisikan model logistic regression\n",
    "modelLr = LogisticRegression()\n",
    "\n",
    "# Tentukan kisi (grid) dari nilai-nilai hiperparameter yang akan diuji\n",
    "param_grid = {\n",
    "    'C': [0.001, 0.01, 0.1, 1, 10, 100],  # Regularization strength\n",
    "    'penalty': ['l1', 'l2'],  # Jenis regularisasi\n",
    "    'solver': ['liblinear'],  # Solver yang digunakan\n",
    "}\n",
    "\n",
    "# Lakukan penyetelan hiperparameter dengan menggunakan GridSearchCV\n",
    "grid_search = GridSearchCV(modelLr, param_grid, cv=5, scoring='accuracy')\n",
    "grid_search.fit(X_train, y_train)\n",
    "\n",
    "# Tampilkan kombinasi terbaik dari hiperparameter\n",
    "print(\"Kombinasi hiperparameter terbaik:\", grid_search.best_params_)\n",
    "\n",
    "# Evaluasi model pada set uji\n",
    "best_model = grid_search.best_estimator_\n",
    "y_pred_lr = best_model.predict(X_test)\n",
    "\n",
    "reportLr = classification_report(y_test, y_pred_lr)\n",
    "accLr = accuracy_score(y_test, y_pred_lr)\n",
    "confLr = confusion_matrix(y_test, y_pred_lr)\n",
    "\n",
    "print(reportLr)\n",
    "print(accLr)\n",
    "\n",
    "# Visualisasi confusion matrix\n",
    "sns.heatmap(confLr, annot=True)\n",
    "plt.xlabel(\"Actual\")\n",
    "plt.ylabel(\"Prediction\")\n",
    "plt.show()\n"
   ]
  },
  {
   "cell_type": "code",
   "execution_count": 33,
   "id": "fc256cd8",
   "metadata": {},
   "outputs": [
    {
     "name": "stdout",
     "output_type": "stream",
     "text": [
      "Kombinasi hiperparameter terbaik: {'learning_rate': 0.1, 'max_depth': 4, 'n_estimators': 300}\n",
      "              precision    recall  f1-score   support\n",
      "\n",
      "           0       0.79      0.82      0.80        72\n",
      "           1       0.85      0.82      0.84        91\n",
      "\n",
      "    accuracy                           0.82       163\n",
      "   macro avg       0.82      0.82      0.82       163\n",
      "weighted avg       0.82      0.82      0.82       163\n",
      "\n",
      "0.8220858895705522\n"
     ]
    },
    {
     "data": {
      "image/png": "[encoded data removed]",
      "text/plain": [
       "<Figure size 640x480 with 2 Axes>"
      ]
     },
     "metadata": {},
     "output_type": "display_data"
    }
   ],
   "source": [
    "from sklearn.ensemble import GradientBoostingClassifier\n",
    "from sklearn.model_selection import GridSearchCV\n",
    "from sklearn.metrics import classification_report, accuracy_score, confusion_matrix\n",
    "import seaborn as sns\n",
    "import matplotlib.pyplot as plt\n",
    "from sklearn.datasets import load_iris\n",
    "from sklearn.model_selection import train_test_split\n",
    "\n",
    "# Definisikan model Gradient Boosting Classifier\n",
    "modelgbc = GradientBoostingClassifier(random_state=42)\n",
    "\n",
    "# Tentukan kisi (grid) dari nilai-nilai hiperparameter yang akan diuji\n",
    "param_grid = {\n",
    "    'learning_rate': [0.1, 0.01, 0.001],  # Tingkat pembelajaran\n",
    "    'n_estimators': [100, 200, 300],  # Jumlah pohon\n",
    "    'max_depth': [3, 4, 5],  # Kedalaman maksimum pohon\n",
    "}\n",
    "\n",
    "# Lakukan penyetelan hiperparameter dengan menggunakan GridSearchCV\n",
    "grid_search = GridSearchCV(modelgbc, param_grid, cv=5, scoring='accuracy')\n",
    "grid_search.fit(X_train, y_train)\n",
    "\n",
    "# Tampilkan kombinasi terbaik dari hiperparameter\n",
    "print(\"Kombinasi hiperparameter terbaik:\", grid_search.best_params_)\n",
    "\n",
    "# Evaluasi model pada set uji\n",
    "best_model = grid_search.best_estimator_\n",
    "y_predgbc = best_model.predict(X_test)\n",
    "\n",
    "reportgbc = classification_report(y_test, y_predgbc)\n",
    "accgbc = accuracy_score(y_test, y_predgbc)\n",
    "confgbc = confusion_matrix(y_test, y_predgbc)\n",
    "\n",
    "print(reportgbc)\n",
    "print(accgbc)\n",
    "\n",
    "# Visualisasi confusion matrix\n",
    "sns.heatmap(confgbc, annot=True)\n",
    "plt.xlabel(\"Actual\")\n",
    "plt.ylabel(\"Prediction\")\n",
    "plt.show()\n"
   ]
  }
 ],
 "metadata": {
  "kernelspec": {
   "display_name": "Python 3 (ipykernel)",
   "language": "python",
   "name": "python3"
  },
  "language_info": {
   "codemirror_mode": {
    "name": "ipython",
    "version": 3
   },
   "file_extension": ".py",
   "mimetype": "text/x-python",
   "name": "python",
   "nbconvert_exporter": "python",
   "pygments_lexer": "ipython3",
   "version": "3.9.12"
  },
  "toc": {
   "base_numbering": 1,
   "nav_menu": {},
   "number_sections": true,
   "sideBar": true,
   "skip_h1_title": false,
   "title_cell": "Table of Contents",
   "title_sidebar": "Contents",
   "toc_cell": false,
   "toc_position": {},
   "toc_section_display": true,
   "toc_window_display": false
  },
  "varInspector": {
   "cols": {
    "lenName": 16,
    "lenType": 16,
    "lenVar": 40
   },
   "kernels_config": {
    "python": {
     "delete_cmd_postfix": "",
     "delete_cmd_prefix": "del ",
     "library": "var_list.py",
     "varRefreshCmd": "print(var_dic_list())"
    },
    "r": {
     "delete_cmd_postfix": ") ",
     "delete_cmd_prefix": "rm(",
     "library": "var_list.r",
     "varRefreshCmd": "cat(var_dic_list()) "
    }
   },
   "types_to_exclude": [
    "module",
    "function",
    "builtin_function_or_method",
    "instance",
    "_Feature"
   ],
   "window_display": false
  }
 },
 "nbformat": 4,
 "nbformat_minor": 5
}
